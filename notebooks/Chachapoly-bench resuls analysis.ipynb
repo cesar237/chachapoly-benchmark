{
 "cells": [
  {
   "cell_type": "code",
   "execution_count": 1,
   "id": "e4a1fa79",
   "metadata": {},
   "outputs": [],
   "source": [
    "import numpy as np\n",
    "import scienceplots\n",
    "from matplotlib import pyplot as plt\n",
    "import pandas as pd\n",
    "import os\n",
    "import scipy as sp\n",
    "import seaborn as sns\n",
    "import json\n",
    "import yaml\n",
    "import functools\n",
    "import itertools"
   ]
  },
  {
   "cell_type": "code",
   "execution_count": 2,
   "id": "a28a2117",
   "metadata": {},
   "outputs": [
    {
     "name": "stdout",
     "output_type": "stream",
     "text": [
      "bench.cc           CURRENT            Makefile        sandbox\r\n",
      "\u001b[0m\u001b[01;32mbench_cc\u001b[0m*          \u001b[01;32mextract-cpu.sh\u001b[0m*    \u001b[01;34mnotebooks\u001b[0m/      \u001b[01;32msetup.sh\u001b[0m*\r\n",
      "bench.go           \u001b[01;34mfigures\u001b[0m/           out.csv         \u001b[01;32mutil\u001b[0m*\r\n",
      "\u001b[01;32mbuild-bench.sh\u001b[0m*    go.mod             \u001b[01;32mparameters.sh\u001b[0m*  util.cc\r\n",
      "\u001b[01;32mchacha20_bench\u001b[0m*    go.sum             README.md\r\n",
      "chacha20_bench.c   \u001b[01;32mlaunch_eval_c.sh\u001b[0m*  res.out\r\n",
      "\u001b[01;32mchachapoly-bench\u001b[0m*  \u001b[01;32mlaunch_eval.sh\u001b[0m*    \u001b[01;34mresults\u001b[0m/\r\n"
     ]
    }
   ],
   "source": [
    "%ls ../"
   ]
  },
  {
   "cell_type": "code",
   "execution_count": 3,
   "id": "a50faa9f",
   "metadata": {},
   "outputs": [],
   "source": [
    "res_file = \"../out.csv\""
   ]
  },
  {
   "cell_type": "code",
   "execution_count": null,
   "id": "b7904ca0",
   "metadata": {},
   "outputs": [],
   "source": []
  },
  {
   "cell_type": "code",
   "execution_count": 4,
   "id": "a3369d10",
   "metadata": {},
   "outputs": [
    {
     "data": {
      "text/plain": [
       "0.15"
      ]
     },
     "execution_count": 4,
     "metadata": {},
     "output_type": "execute_result"
    }
   ],
   "source": [
    "15/100"
   ]
  },
  {
   "cell_type": "code",
   "execution_count": null,
   "id": "2a524dce",
   "metadata": {},
   "outputs": [],
   "source": []
  },
  {
   "cell_type": "code",
   "execution_count": 5,
   "id": "a217c4eb",
   "metadata": {},
   "outputs": [],
   "source": [
    "names = ['benchmark', 'payload', 'time', 'cpu']\n",
    "df = pd.read_csv(f\"{res_file}\", names=names)\n",
    "df['time'] /= 1000\n",
    "df_encrypt = df[df.benchmark == \"BM_Encrypt\"]\n",
    "df_decrypt = df[df.benchmark == \"BM_Decrypt\"]"
   ]
  },
  {
   "cell_type": "code",
   "execution_count": 6,
   "id": "407e0f5a",
   "metadata": {},
   "outputs": [
    {
     "data": {
      "image/png": "[encoded data removed]",
      "text/plain": [
       "<Figure size 432x288 with 1 Axes>"
      ]
     },
     "metadata": {
      "needs_background": "light"
     },
     "output_type": "display_data"
    }
   ],
   "source": [
    "SMALL_SIZE = 8\n",
    "MEDIUM_SIZE = 10\n",
    "BIGGER_SIZE = 12\n",
    "\n",
    "plt.rc('font', size=BIGGER_SIZE)          # controls default text sizes\n",
    "plt.rc('axes', titlesize=BIGGER_SIZE)     # fontsize of the axes title\n",
    "plt.rc('axes', labelsize=BIGGER_SIZE)    # fontsize of the x and y labels\n",
    "plt.rc('xtick', labelsize=BIGGER_SIZE)    # fontsize of the tick labels\n",
    "plt.rc('ytick', labelsize=BIGGER_SIZE)\n",
    "\n",
    "with plt.style.context(['science', 'ieee']):\n",
    "    ax = df_encrypt.plot(x='payload', y='time', label='Encryption', grid=True, marker='o')\n",
    "    df_decrypt.plot(ax=ax, x='payload', y='time', ylim=[0.500, 1.500], \n",
    "                    label='Decryption', grid=True, \n",
    "                    xlabel=\"Payload size (in Bytes)\", \n",
    "                    ylabel=\"CPU time (in $\\mu s$)\", marker=\"x\")\n",
    "    plt.savefig('../figures/chachapoly-bench.pdf', dpi=300)"
   ]
  },
  {
   "cell_type": "code",
   "execution_count": 7,
   "id": "a906f26a",
   "metadata": {},
   "outputs": [
    {
     "data": {
      "text/html": [
       "<div>\n",
       "<style scoped>\n",
       "    .dataframe tbody tr th:only-of-type {\n",
       "        vertical-align: middle;\n",
       "    }\n",
       "\n",
       "    .dataframe tbody tr th {\n",
       "        vertical-align: top;\n",
       "    }\n",
       "\n",
       "    .dataframe thead th {\n",
       "        text-align: right;\n",
       "    }\n",
       "</style>\n",
       "<table border=\"1\" class=\"dataframe\">\n",
       "  <thead>\n",
       "    <tr style=\"text-align: right;\">\n",
       "      <th></th>\n",
       "      <th>benchmark</th>\n",
       "      <th>payload</th>\n",
       "      <th>time</th>\n",
       "      <th>cpu</th>\n",
       "    </tr>\n",
       "  </thead>\n",
       "  <tbody>\n",
       "    <tr>\n",
       "      <th>0</th>\n",
       "      <td>BM_Encrypt</td>\n",
       "      <td>40</td>\n",
       "      <td>0.592</td>\n",
       "      <td>591</td>\n",
       "    </tr>\n",
       "    <tr>\n",
       "      <th>1</th>\n",
       "      <td>BM_Encrypt</td>\n",
       "      <td>52</td>\n",
       "      <td>0.585</td>\n",
       "      <td>585</td>\n",
       "    </tr>\n",
       "    <tr>\n",
       "      <th>2</th>\n",
       "      <td>BM_Encrypt</td>\n",
       "      <td>100</td>\n",
       "      <td>0.777</td>\n",
       "      <td>776</td>\n",
       "    </tr>\n",
       "    <tr>\n",
       "      <th>3</th>\n",
       "      <td>BM_Encrypt</td>\n",
       "      <td>150</td>\n",
       "      <td>0.713</td>\n",
       "      <td>712</td>\n",
       "    </tr>\n",
       "    <tr>\n",
       "      <th>4</th>\n",
       "      <td>BM_Encrypt</td>\n",
       "      <td>500</td>\n",
       "      <td>0.808</td>\n",
       "      <td>807</td>\n",
       "    </tr>\n",
       "    <tr>\n",
       "      <th>5</th>\n",
       "      <td>BM_Encrypt</td>\n",
       "      <td>1000</td>\n",
       "      <td>0.989</td>\n",
       "      <td>988</td>\n",
       "    </tr>\n",
       "    <tr>\n",
       "      <th>6</th>\n",
       "      <td>BM_Encrypt</td>\n",
       "      <td>1500</td>\n",
       "      <td>1.191</td>\n",
       "      <td>1189</td>\n",
       "    </tr>\n",
       "    <tr>\n",
       "      <th>7</th>\n",
       "      <td>BM_Encrypt</td>\n",
       "      <td>2000</td>\n",
       "      <td>1.371</td>\n",
       "      <td>1369</td>\n",
       "    </tr>\n",
       "    <tr>\n",
       "      <th>8</th>\n",
       "      <td>BM_Decrypt</td>\n",
       "      <td>40</td>\n",
       "      <td>0.590</td>\n",
       "      <td>590</td>\n",
       "    </tr>\n",
       "    <tr>\n",
       "      <th>9</th>\n",
       "      <td>BM_Decrypt</td>\n",
       "      <td>52</td>\n",
       "      <td>0.590</td>\n",
       "      <td>589</td>\n",
       "    </tr>\n",
       "    <tr>\n",
       "      <th>10</th>\n",
       "      <td>BM_Decrypt</td>\n",
       "      <td>100</td>\n",
       "      <td>0.669</td>\n",
       "      <td>668</td>\n",
       "    </tr>\n",
       "    <tr>\n",
       "      <th>11</th>\n",
       "      <td>BM_Decrypt</td>\n",
       "      <td>150</td>\n",
       "      <td>0.723</td>\n",
       "      <td>722</td>\n",
       "    </tr>\n",
       "    <tr>\n",
       "      <th>12</th>\n",
       "      <td>BM_Decrypt</td>\n",
       "      <td>500</td>\n",
       "      <td>0.807</td>\n",
       "      <td>806</td>\n",
       "    </tr>\n",
       "    <tr>\n",
       "      <th>13</th>\n",
       "      <td>BM_Decrypt</td>\n",
       "      <td>1000</td>\n",
       "      <td>0.997</td>\n",
       "      <td>995</td>\n",
       "    </tr>\n",
       "    <tr>\n",
       "      <th>14</th>\n",
       "      <td>BM_Decrypt</td>\n",
       "      <td>1500</td>\n",
       "      <td>1.196</td>\n",
       "      <td>1195</td>\n",
       "    </tr>\n",
       "    <tr>\n",
       "      <th>15</th>\n",
       "      <td>BM_Decrypt</td>\n",
       "      <td>2000</td>\n",
       "      <td>1.346</td>\n",
       "      <td>1344</td>\n",
       "    </tr>\n",
       "  </tbody>\n",
       "</table>\n",
       "</div>"
      ],
      "text/plain": [
       "     benchmark  payload   time   cpu\n",
       "0   BM_Encrypt       40  0.592   591\n",
       "1   BM_Encrypt       52  0.585   585\n",
       "2   BM_Encrypt      100  0.777   776\n",
       "3   BM_Encrypt      150  0.713   712\n",
       "4   BM_Encrypt      500  0.808   807\n",
       "5   BM_Encrypt     1000  0.989   988\n",
       "6   BM_Encrypt     1500  1.191  1189\n",
       "7   BM_Encrypt     2000  1.371  1369\n",
       "8   BM_Decrypt       40  0.590   590\n",
       "9   BM_Decrypt       52  0.590   589\n",
       "10  BM_Decrypt      100  0.669   668\n",
       "11  BM_Decrypt      150  0.723   722\n",
       "12  BM_Decrypt      500  0.807   806\n",
       "13  BM_Decrypt     1000  0.997   995\n",
       "14  BM_Decrypt     1500  1.196  1195\n",
       "15  BM_Decrypt     2000  1.346  1344"
      ]
     },
     "execution_count": 7,
     "metadata": {},
     "output_type": "execute_result"
    }
   ],
   "source": [
    "df"
   ]
  },
  {
   "cell_type": "code",
   "execution_count": 26,
   "id": "c51e75ac",
   "metadata": {},
   "outputs": [
    {
     "data": {
      "text/plain": [
       "12.5"
      ]
     },
     "execution_count": 26,
     "metadata": {},
     "output_type": "execute_result"
    }
   ],
   "source": [
    "1500/120"
   ]
  },
  {
   "cell_type": "code",
   "execution_count": null,
   "id": "50b2c784",
   "metadata": {},
   "outputs": [],
   "source": []
  }
 ],
 "metadata": {
  "kernelspec": {
   "display_name": "Python 3 (ipykernel)",
   "language": "python",
   "name": "python3"
  },
  "language_info": {
   "codemirror_mode": {
    "name": "ipython",
    "version": 3
   },
   "file_extension": ".py",
   "mimetype": "text/x-python",
   "name": "python",
   "nbconvert_exporter": "python",
   "pygments_lexer": "ipython3",
   "version": "3.11.6"
  }
 },
 "nbformat": 4,
 "nbformat_minor": 5
}
